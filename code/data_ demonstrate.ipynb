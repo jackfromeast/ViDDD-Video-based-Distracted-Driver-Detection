{
 "cells": [
  {
   "cell_type": "markdown",
   "source": [
    "# Data Demonstration"
   ],
   "metadata": {}
  },
  {
   "cell_type": "code",
   "execution_count": 2,
   "source": [
    "import os\n",
    "\n",
    "data_counts = {}\n",
    "for root_dir, dirs, filenames in os.walk('../processed_dataset/DMD-clips-70'):\n",
    "    if len(dirs) == 0:\n",
    "        data_counts[root_dir.split('/')[-1]] = len(filenames)\n",
    "\n",
    "data_counts"
   ],
   "outputs": [
    {
     "output_type": "stream",
     "name": "stdout",
     "text": [
      "['phonecall_right', 'safe_drive', 'talking_to_passenger', 'radio', 'change_gear', 'phonecall_left', 'reach_backseat', 'unclassified', 'texting_right', 'standstill_or_waiting', 'drinking', 'texting_left', 'reach_side', 'hair_and_makeup']\n",
      "1\n",
      "[]\n",
      "337\n",
      "[]\n",
      "658\n",
      "[]\n",
      "71\n",
      "[]\n",
      "73\n",
      "[]\n",
      "54\n",
      "[]\n",
      "316\n",
      "[]\n",
      "28\n",
      "[]\n",
      "379\n",
      "[]\n",
      "122\n",
      "[]\n",
      "5\n",
      "[]\n",
      "108\n",
      "[]\n",
      "137\n",
      "[]\n",
      "352\n",
      "[]\n",
      "115\n"
     ]
    }
   ],
   "metadata": {}
  },
  {
   "cell_type": "code",
   "execution_count": null,
   "source": [],
   "outputs": [],
   "metadata": {}
  }
 ],
 "metadata": {
  "orig_nbformat": 4,
  "language_info": {
   "name": "python",
   "version": "3.8.10",
   "mimetype": "text/x-python",
   "codemirror_mode": {
    "name": "ipython",
    "version": 3
   },
   "pygments_lexer": "ipython3",
   "nbconvert_exporter": "python",
   "file_extension": ".py"
  },
  "kernelspec": {
   "name": "python3",
   "display_name": "Python 3.8.10 64-bit ('torch': conda)"
  },
  "interpreter": {
   "hash": "a1a637d9a9d3a75171fa701b2010d8cab1aa750194641077d883ad33a16f1939"
  }
 },
 "nbformat": 4,
 "nbformat_minor": 2
}